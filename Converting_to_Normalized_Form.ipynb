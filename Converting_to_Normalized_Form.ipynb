{
  "nbformat": 4,
  "nbformat_minor": 0,
  "metadata": {
    "colab": {
      "provenance": [],
      "include_colab_link": true
    },
    "kernelspec": {
      "name": "python3",
      "display_name": "Python 3"
    },
    "language_info": {
      "name": "python"
    }
  },
  "cells": [
    {
      "cell_type": "markdown",
      "metadata": {
        "id": "view-in-github",
        "colab_type": "text"
      },
      "source": [
        "<a href=\"https://colab.research.google.com/github/MonaFaghfouri/Pre-processing/blob/main/Converting_to_Normalized_Form.ipynb\" target=\"_parent\"><img src=\"https://colab.research.google.com/assets/colab-badge.svg\" alt=\"Open In Colab\"/></a>"
      ]
    },
    {
      "cell_type": "code",
      "source": [
        "import pandas as pd\n",
        "import re\n",
        "from google.colab import files\n",
        "import io\n",
        "\n",
        "# ✅ Text cleaning function\n",
        "def clean_text(text):\n",
        "    if not isinstance(text, str):\n",
        "        return text\n",
        "\n",
        "    # Remove extra spaces\n",
        "    text = text.replace(\" \", \"\")\n",
        "\n",
        "    # Replace multiple commas with a single comma\n",
        "    text = re.sub(r',+', ',', text)\n",
        "\n",
        "    # Remove leading commas inside brackets\n",
        "    text = re.sub(r'\\[,+', '[', text)\n",
        "\n",
        "    # Remove trailing commas inside brackets\n",
        "    text = re.sub(r',+\\]', ']', text)\n",
        "\n",
        "    # Check for empty or almost-empty lists\n",
        "    if re.fullmatch(r'\\[(,*)\\]', text):\n",
        "        return \"[]\"\n",
        "\n",
        "    return text\n",
        "\n",
        "# 📥 Upload and process function\n",
        "def upload_and_process():\n",
        "    print(\"📤 Please upload your Excel file:\")\n",
        "    uploaded = files.upload()\n",
        "\n",
        "    for filename in uploaded.keys():\n",
        "        print(f\"📁 File received: {filename}\")\n",
        "\n",
        "        # Read the Excel file\n",
        "        df = pd.read_excel(io.BytesIO(uploaded[filename]))\n",
        "\n",
        "        if df.shape[1] >= 2:\n",
        "            # Clean the second column\n",
        "            df.iloc[:, 1] = df.iloc[:, 1].apply(clean_text)\n",
        "\n",
        "            # Remove rows where the second column is exactly \"[]\"\n",
        "            df = df[df.iloc[:, 1] != \"[]\"]\n",
        "        else:\n",
        "            print(\"⚠️ The file has less than two columns. No processing was done.\")\n",
        "\n",
        "        # Save the cleaned file\n",
        "        output_filename = filename.replace(\".xlsx\", \"_cleaned.xlsx\")\n",
        "        df.to_excel(output_filename, index=False)\n",
        "\n",
        "        # Download the output file\n",
        "        print(f\"✅ Cleaned file is ready: {output_filename}\")\n",
        "        files.download(output_filename)\n",
        "\n",
        "# ▶️ Run the program\n",
        "upload_and_process()\n"
      ],
      "metadata": {
        "id": "X59NcjmuG_1s"
      },
      "execution_count": null,
      "outputs": []
    }
  ]
}