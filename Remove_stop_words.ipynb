{
  "nbformat": 4,
  "nbformat_minor": 0,
  "metadata": {
    "colab": {
      "provenance": [],
      "authorship_tag": "ABX9TyNl29vS7cfa/BTa7Cun43x4",
      "include_colab_link": true
    },
    "kernelspec": {
      "name": "python3",
      "display_name": "Python 3"
    },
    "language_info": {
      "name": "python"
    }
  },
  "cells": [
    {
      "cell_type": "markdown",
      "metadata": {
        "id": "view-in-github",
        "colab_type": "text"
      },
      "source": [
        "<a href=\"https://colab.research.google.com/github/MonaFaghfouri/Pre-processing/blob/main/Remove_stop_words.ipynb\" target=\"_parent\"><img src=\"https://colab.research.google.com/assets/colab-badge.svg\" alt=\"Open In Colab\"/></a>"
      ]
    },
    {
      "cell_type": "code",
      "source": [
        "import pandas as pd\n",
        "from google.colab import files\n",
        "\n",
        "# Upload the stopwords text file\n",
        "print(\"Upload the stopwords text file:\")\n",
        "uploaded = files.upload()\n",
        "stopwords_filename = list(uploaded.keys())[0]\n",
        "\n",
        "# Read stopwords from text file\n",
        "with open(stopwords_filename, 'r', encoding='utf-8') as f:\n",
        "    stopwords = f.read().splitlines()\n",
        "\n",
        "# Upload the Excel file\n",
        "print(\"Upload the Excel file:\")\n",
        "uploaded = files.upload()\n",
        "excel_filename = list(uploaded.keys())[0]\n",
        "df = pd.read_excel(excel_filename)\n",
        "\n",
        "# Function to remove stopwords\n",
        "def remove_stopwords(text):\n",
        "    if pd.isnull(text):\n",
        "        return \"\"\n",
        "    text = str(text)\n",
        "    words = text.split()\n",
        "    filtered_words = [word for word in words if word not in stopwords]\n",
        "    return ' '.join(filtered_words)\n",
        "\n",
        "# Apply stopword removal to the second column (index 1)\n",
        "df.iloc[:, 1] = df.iloc[:, 1].apply(remove_stopwords)\n",
        "\n",
        "# Save the cleaned file\n",
        "df.to_excel(\"stopwords_removed.xlsx\", index=False)\n",
        "print(\"File successfully saved: stopwords_removed.xlsx\")\n"
      ],
      "metadata": {
        "id": "_TsIIE5wJ1-J"
      },
      "execution_count": null,
      "outputs": []
    }
  ]
}