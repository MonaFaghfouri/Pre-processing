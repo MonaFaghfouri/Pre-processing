{
  "nbformat": 4,
  "nbformat_minor": 0,
  "metadata": {
    "colab": {
      "provenance": [],
      "authorship_tag": "ABX9TyPXoLRl71a7XWVdkRqMn7Zm",
      "include_colab_link": true
    },
    "kernelspec": {
      "name": "python3",
      "display_name": "Python 3"
    },
    "language_info": {
      "name": "python"
    }
  },
  "cells": [
    {
      "cell_type": "markdown",
      "metadata": {
        "id": "view-in-github",
        "colab_type": "text"
      },
      "source": [
        "<a href=\"https://colab.research.google.com/github/MonaFaghfouri/Pre-processing/blob/main/Convert_Informal_to_Formal.ipynb\" target=\"_parent\"><img src=\"https://colab.research.google.com/assets/colab-badge.svg\" alt=\"Open In Colab\"/></a>"
      ]
    },
    {
      "cell_type": "code",
      "source": [
        "#First, we should create text files with 200 sentences from the Excel file"
      ],
      "metadata": {
        "id": "C20bPTeCflf_"
      },
      "execution_count": null,
      "outputs": []
    },
    {
      "cell_type": "code",
      "execution_count": null,
      "metadata": {
        "id": "Kh5KJqCZb9U3"
      },
      "outputs": [],
      "source": [
        "import pandas as pd\n",
        "from google.colab import files\n",
        "\n",
        "# Upload the Excel file\n",
        "uploaded = files.upload()\n",
        "\n",
        "# Extract the uploaded file name\n",
        "file_name = list(uploaded.keys())[0]\n",
        "\n",
        "# Read the Excel file using pandas\n",
        "df = pd.read_excel(file_name)\n",
        "\n",
        "# Assume your data is in the second column, which we will use\n",
        "# Here, the second column (Index 1) is considered as the data to be processed\n",
        "text = df.iloc[:, 1].dropna().tolist()  # Convert to list and remove empty values\n",
        "\n",
        "# Function to process the input text\n",
        "def process_text_file(input_text):\n",
        "    # Split text into sentences (each row is a sentence)\n",
        "    sentences = input_text\n",
        "\n",
        "    # Split sentences into chunks of 200\n",
        "    chunk_size = 200\n",
        "    chunks = [sentences[i:i + chunk_size] for i in range(0, len(sentences), chunk_size)]\n",
        "\n",
        "    # Write sentences into new files and download them\n",
        "    for idx, chunk in enumerate(chunks):\n",
        "        output_file = f\"output_{idx+1}.txt\"  # Output file name based on chunk number\n",
        "        with open(output_file, 'w', encoding='utf-8') as f:\n",
        "            for i, sentence in enumerate(chunk, start=1):\n",
        "                # Add numbering before each sentence\n",
        "                f.write(f\"{i}. {sentence.strip()}\\n\")  # Add number and sentence\n",
        "        print(f\"File {output_file} has been saved.\")\n",
        "        files.download(output_file)  # Download the generated file\n",
        "\n",
        "# Call the function to process the input text\n",
        "process_text_file(text)\n"
      ]
    },
    {
      "cell_type": "code",
      "source": [
        "#Then, we convert our formatted text files to Excel files."
      ],
      "metadata": {
        "id": "Hm0Di3OXgh3O"
      },
      "execution_count": null,
      "outputs": []
    },
    {
      "cell_type": "code",
      "source": [
        "import pandas as pd\n",
        "from google.colab import files\n",
        "import os\n",
        "\n",
        "# Upload text files\n",
        "uploaded = files.upload()\n",
        "\n",
        "# Process each uploaded text file\n",
        "for file_name in uploaded.keys():\n",
        "    # Read the content of the text file\n",
        "    with open(file_name, 'r', encoding='utf-8') as f:\n",
        "        lines = f.readlines()\n",
        "\n",
        "    # Remove numbering (e.g., \"1. sentence\") if present and create a DataFrame\n",
        "    data = [line.strip().split('. ', 1)[-1] for line in lines if line.strip()]\n",
        "    df = pd.DataFrame(data, columns=[\"Text\"])\n",
        "\n",
        "    # Create output Excel file name\n",
        "    excel_file = os.path.splitext(file_name)[0] + '.xlsx'\n",
        "\n",
        "    # Save as Excel file\n",
        "    df.to_excel(excel_file, index=False)\n",
        "\n",
        "    # Download the Excel file\n",
        "    print(f\"File {excel_file} is ready for download.\")\n",
        "    files.download(excel_file)"
      ],
      "metadata": {
        "id": "xkk167HYcIvr"
      },
      "execution_count": null,
      "outputs": []
    }
  ]
}